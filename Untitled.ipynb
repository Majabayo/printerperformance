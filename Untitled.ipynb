{
 "cells": [
  {
   "cell_type": "code",
   "execution_count": 1,
   "id": "ec7444e5-d2d2-4753-b8a7-8229681ceeb5",
   "metadata": {},
   "outputs": [
    {
     "name": "stdout",
     "output_type": "stream",
     "text": [
      "Error while loading conda entry point: conda-libmamba-solver (dlopen(/opt/anaconda3/lib/python3.12/site-packages/libmambapy/bindings.cpython-312-darwin.so, 0x0002): Library not loaded: @rpath/libarchive.19.dylib\n",
      "  Referenced from: <C6FFB0DE-2F95-397A-80F7-4F74339F6DC5> /opt/anaconda3/lib/libmamba.2.0.0.dylib\n",
      "  Reason: tried: '/opt/anaconda3/lib/libarchive.19.dylib' (no such file), '/opt/anaconda3/lib/python3.12/site-packages/libmambapy/../../../libarchive.19.dylib' (no such file), '/opt/anaconda3/lib/python3.12/site-packages/libmambapy/../../../libarchive.19.dylib' (no such file), '/opt/anaconda3/bin/../lib/libarchive.19.dylib' (no such file), '/opt/anaconda3/bin/../lib/libarchive.19.dylib' (no such file), '/usr/local/lib/libarchive.19.dylib' (no such file), '/usr/lib/libarchive.19.dylib' (no such file, not in dyld cache))\n",
      "Retrieving notices: ...working... done\n",
      "Collecting package metadata (current_repodata.json): done\n",
      "Solving environment: done\n",
      "\n",
      "# All requested packages already installed.\n",
      "\n",
      "\n",
      "Note: you may need to restart the kernel to use updated packages.\n"
     ]
    }
   ],
   "source": [
    "conda install pillow"
   ]
  },
  {
   "cell_type": "code",
   "execution_count": 2,
   "id": "e254c7fa-d487-482b-b7a1-0beb8213805d",
   "metadata": {},
   "outputs": [
    {
     "name": "stdout",
     "output_type": "stream",
     "text": [
      "Error while loading conda entry point: conda-libmamba-solver (dlopen(/opt/anaconda3/lib/python3.12/site-packages/libmambapy/bindings.cpython-312-darwin.so, 0x0002): Library not loaded: @rpath/libarchive.19.dylib\n",
      "  Referenced from: <C6FFB0DE-2F95-397A-80F7-4F74339F6DC5> /opt/anaconda3/lib/libmamba.2.0.0.dylib\n",
      "  Reason: tried: '/opt/anaconda3/lib/libarchive.19.dylib' (no such file), '/opt/anaconda3/lib/python3.12/site-packages/libmambapy/../../../libarchive.19.dylib' (no such file), '/opt/anaconda3/lib/python3.12/site-packages/libmambapy/../../../libarchive.19.dylib' (no such file), '/opt/anaconda3/bin/../lib/libarchive.19.dylib' (no such file), '/opt/anaconda3/bin/../lib/libarchive.19.dylib' (no such file), '/usr/local/lib/libarchive.19.dylib' (no such file), '/usr/lib/libarchive.19.dylib' (no such file, not in dyld cache))\n",
      "Collecting package metadata (current_repodata.json): done\n",
      "Solving environment: done\n",
      "\n",
      "# All requested packages already installed.\n",
      "\n",
      "\n",
      "Note: you may need to restart the kernel to use updated packages.\n"
     ]
    }
   ],
   "source": [
    "conda install numpy"
   ]
  },
  {
   "cell_type": "code",
   "execution_count": 3,
   "id": "31a5e674-88fc-44f5-a624-dcc0d3a17871",
   "metadata": {},
   "outputs": [
    {
     "name": "stdout",
     "output_type": "stream",
     "text": [
      "Error while loading conda entry point: conda-libmamba-solver (dlopen(/opt/anaconda3/lib/python3.12/site-packages/libmambapy/bindings.cpython-312-darwin.so, 0x0002): Library not loaded: @rpath/libarchive.19.dylib\n",
      "  Referenced from: <C6FFB0DE-2F95-397A-80F7-4F74339F6DC5> /opt/anaconda3/lib/libmamba.2.0.0.dylib\n",
      "  Reason: tried: '/opt/anaconda3/lib/libarchive.19.dylib' (no such file), '/opt/anaconda3/lib/python3.12/site-packages/libmambapy/../../../libarchive.19.dylib' (no such file), '/opt/anaconda3/lib/python3.12/site-packages/libmambapy/../../../libarchive.19.dylib' (no such file), '/opt/anaconda3/bin/../lib/libarchive.19.dylib' (no such file), '/opt/anaconda3/bin/../lib/libarchive.19.dylib' (no such file), '/usr/local/lib/libarchive.19.dylib' (no such file), '/usr/lib/libarchive.19.dylib' (no such file, not in dyld cache))\n",
      "Collecting package metadata (current_repodata.json): done\n",
      "Solving environment: done\n",
      "\n",
      "## Package Plan ##\n",
      "\n",
      "  environment location: /opt/anaconda3\n",
      "\n",
      "  added / updated specs:\n",
      "    - ipython\n",
      "\n",
      "\n",
      "The following packages will be downloaded:\n",
      "\n",
      "    package                    |            build\n",
      "    ---------------------------|-----------------\n",
      "    ipython-8.27.0             |  py312hca03da5_0         1.4 MB\n",
      "    ------------------------------------------------------------\n",
      "                                           Total:         1.4 MB\n",
      "\n",
      "The following packages will be UPDATED:\n",
      "\n",
      "  ipython                            8.25.0-py312hca03da5_0 --> 8.27.0-py312hca03da5_0 \n",
      "\n",
      "\n",
      "\n",
      "Downloading and Extracting Packages:\n",
      "                                                                                \n",
      "Preparing transaction: done\n",
      "Verifying transaction: done\n",
      "Executing transaction: done\n",
      "\n",
      "Note: you may need to restart the kernel to use updated packages.\n"
     ]
    }
   ],
   "source": [
    "conda install ipython"
   ]
  },
  {
   "cell_type": "code",
   "execution_count": 4,
   "id": "9c2c46f5-8cf8-4929-a8cb-27817f8a0f6d",
   "metadata": {},
   "outputs": [
    {
     "name": "stdout",
     "output_type": "stream",
     "text": [
      "Error while loading conda entry point: conda-libmamba-solver (dlopen(/opt/anaconda3/lib/python3.12/site-packages/libmambapy/bindings.cpython-312-darwin.so, 0x0002): Library not loaded: @rpath/libarchive.19.dylib\n",
      "  Referenced from: <C6FFB0DE-2F95-397A-80F7-4F74339F6DC5> /opt/anaconda3/lib/libmamba.2.0.0.dylib\n",
      "  Reason: tried: '/opt/anaconda3/lib/libarchive.19.dylib' (no such file), '/opt/anaconda3/lib/python3.12/site-packages/libmambapy/../../../libarchive.19.dylib' (no such file), '/opt/anaconda3/lib/python3.12/site-packages/libmambapy/../../../libarchive.19.dylib' (no such file), '/opt/anaconda3/bin/../lib/libarchive.19.dylib' (no such file), '/opt/anaconda3/bin/../lib/libarchive.19.dylib' (no such file), '/usr/local/lib/libarchive.19.dylib' (no such file), '/usr/lib/libarchive.19.dylib' (no such file, not in dyld cache))\n",
      "Collecting package metadata (current_repodata.json): done\n",
      "Solving environment: done\n",
      "\n",
      "# All requested packages already installed.\n",
      "\n",
      "\n",
      "Note: you may need to restart the kernel to use updated packages.\n"
     ]
    }
   ],
   "source": [
    "conda install ipywidgets"
   ]
  },
  {
   "cell_type": "code",
   "execution_count": null,
   "id": "1b083c3c-dfc6-4a13-8b44-f967daab25de",
   "metadata": {},
   "outputs": [],
   "source": []
  },
  {
   "cell_type": "code",
   "execution_count": null,
   "id": "e8aafcd9-437a-4710-87bf-c22c87700a15",
   "metadata": {},
   "outputs": [],
   "source": []
  },
  {
   "cell_type": "code",
   "execution_count": 7,
   "id": "140f96b2-beef-4930-8c3b-c7ea7a025982",
   "metadata": {},
   "outputs": [
    {
     "name": "stdout",
     "output_type": "stream",
     "text": [
      "Error while loading conda entry point: conda-libmamba-solver (dlopen(/opt/anaconda3/lib/python3.12/site-packages/libmambapy/bindings.cpython-312-darwin.so, 0x0002): Library not loaded: @rpath/libarchive.19.dylib\n",
      "  Referenced from: <C6FFB0DE-2F95-397A-80F7-4F74339F6DC5> /opt/anaconda3/lib/libmamba.2.0.0.dylib\n",
      "  Reason: tried: '/opt/anaconda3/lib/libarchive.19.dylib' (no such file), '/opt/anaconda3/lib/python3.12/site-packages/libmambapy/../../../libarchive.19.dylib' (no such file), '/opt/anaconda3/lib/python3.12/site-packages/libmambapy/../../../libarchive.19.dylib' (no such file), '/opt/anaconda3/bin/../lib/libarchive.19.dylib' (no such file), '/opt/anaconda3/bin/../lib/libarchive.19.dylib' (no such file), '/usr/local/lib/libarchive.19.dylib' (no such file), '/usr/lib/libarchive.19.dylib' (no such file, not in dyld cache))\n",
      "Collecting package metadata (current_repodata.json): done\n",
      "Solving environment: done\n",
      "\n",
      "## Package Plan ##\n",
      "\n",
      "  environment location: /opt/anaconda3\n",
      "\n",
      "  added / updated specs:\n",
      "    - voila\n",
      "\n",
      "\n",
      "The following packages will be downloaded:\n",
      "\n",
      "    package                    |            build\n",
      "    ---------------------------|-----------------\n",
      "    nbclient-0.7.4             |     pyhd8ed1ab_0          64 KB  conda-forge\n",
      "    voila-0.4.5                |     pyhd8ed1ab_0         1.1 MB  conda-forge\n",
      "    websockets-13.0.1          |  py312h024a12e_1         225 KB  conda-forge\n",
      "    ------------------------------------------------------------\n",
      "                                           Total:         1.4 MB\n",
      "\n",
      "The following NEW packages will be INSTALLED:\n",
      "\n",
      "  voila              conda-forge/noarch::voila-0.4.5-pyhd8ed1ab_0 \n",
      "  websockets         conda-forge/osx-arm64::websockets-13.0.1-py312h024a12e_1 \n",
      "\n",
      "The following packages will be UPDATED:\n",
      "\n",
      "  ca-certificates    pkgs/main::ca-certificates-2024.7.2-h~ --> conda-forge::ca-certificates-2024.8.30-hf0a4a13_0 \n",
      "\n",
      "The following packages will be SUPERSEDED by a higher-priority channel:\n",
      "\n",
      "  certifi            pkgs/main/osx-arm64::certifi-2024.8.3~ --> conda-forge/noarch::certifi-2024.8.30-pyhd8ed1ab_0 \n",
      "  conda              pkgs/main::conda-24.7.1-py312hca03da5~ --> conda-forge::conda-24.7.1-py312h81bd7bf_0 \n",
      "  nbclient           pkgs/main/osx-arm64::nbclient-0.8.0-p~ --> conda-forge/noarch::nbclient-0.7.4-pyhd8ed1ab_0 \n",
      "\n",
      "\n",
      "\n",
      "Downloading and Extracting Packages:\n",
      "voila-0.4.5          | 1.1 MB    |                                       |   0% \n",
      "websockets-13.0.1    | 225 KB    |                                       |   0% \u001b[A\n",
      "\n",
      "nbclient-0.7.4       | 64 KB     |                                       |   0% \u001b[A\u001b[A\n",
      "\n",
      "voila-0.4.5          | 1.1 MB    | 5                                     |   1% \u001b[A\u001b[A\n",
      "\n",
      "nbclient-0.7.4       | 64 KB     | ##################################### | 100% \u001b[A\u001b[A\n",
      "voila-0.4.5          | 1.1 MB    | #################################     |  89% \u001b[A\n",
      "websockets-13.0.1    | 225 KB    | #####################                 |  57% \u001b[A\n",
      "                                                                                \u001b[A\n",
      "                                                                                \u001b[A\n",
      "\n",
      "                                                                                \u001b[A\u001b[A\n",
      "Preparing transaction: done\n",
      "Verifying transaction: done\n",
      "Executing transaction: done\n",
      "\n",
      "Note: you may need to restart the kernel to use updated packages.\n"
     ]
    }
   ],
   "source": [
    "conda install -c conda-forge voila\n"
   ]
  },
  {
   "cell_type": "code",
   "execution_count": null,
   "id": "2a5ee168-82f8-4091-8b97-bd48b8d9a24f",
   "metadata": {},
   "outputs": [],
   "source": []
  }
 ],
 "metadata": {
  "kernelspec": {
   "display_name": "Python 3 (ipykernel)",
   "language": "python",
   "name": "python3"
  },
  "language_info": {
   "codemirror_mode": {
    "name": "ipython",
    "version": 3
   },
   "file_extension": ".py",
   "mimetype": "text/x-python",
   "name": "python",
   "nbconvert_exporter": "python",
   "pygments_lexer": "ipython3",
   "version": "3.12.5"
  }
 },
 "nbformat": 4,
 "nbformat_minor": 5
}
